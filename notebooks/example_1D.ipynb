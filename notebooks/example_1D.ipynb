{
 "cells": [
  {
   "cell_type": "markdown",
   "metadata": {},
   "source": [
    "Copyright 2023 ICUBE Laboratory, University of Strasbourg\n",
    "\n",
    "License: Apache License, Version 2.0\n",
    "\n",
    "Author: Thibault Poignonec (thibault.poignonec@gmail.com)\n",
    "\n",
    "Created on Tue Oct 2023"
   ]
  },
  {
   "cell_type": "markdown",
   "metadata": {},
   "source": [
    "# Generate some data"
   ]
  },
  {
   "cell_type": "code",
   "execution_count": 1,
   "metadata": {},
   "outputs": [
    {
     "ename": "ModuleNotFoundError",
     "evalue": "No module named 'backlash_simulation_examples'",
     "output_type": "error",
     "traceback": [
      "\u001b[0;31m---------------------------------------------------------------------------\u001b[0m",
      "\u001b[0;31mModuleNotFoundError\u001b[0m                       Traceback (most recent call last)",
      "\u001b[1;32m/home/tpoignonec/dev/temp_dir/backlash_simulation_examples/notebooks/example_1D.ipynb Cell 3\u001b[0m line \u001b[0;36m8\n\u001b[1;32m      <a href='vscode-notebook-cell://wsl%2Bubuntu/home/tpoignonec/dev/temp_dir/backlash_simulation_examples/notebooks/example_1D.ipynb#W2sdnNjb2RlLXJlbW90ZQ%3D%3D?line=4'>5</a>\u001b[0m \u001b[39mimport\u001b[39;00m \u001b[39mmatplotlib\u001b[39;00m\u001b[39m.\u001b[39;00m\u001b[39mpyplot\u001b[39;00m \u001b[39mas\u001b[39;00m \u001b[39mplt\u001b[39;00m\n\u001b[1;32m      <a href='vscode-notebook-cell://wsl%2Bubuntu/home/tpoignonec/dev/temp_dir/backlash_simulation_examples/notebooks/example_1D.ipynb#W2sdnNjb2RlLXJlbW90ZQ%3D%3D?line=6'>7</a>\u001b[0m \u001b[39m# 1DOF backlash models (2 to 4 parameters per element)\u001b[39;00m\n\u001b[0;32m----> <a href='vscode-notebook-cell://wsl%2Bubuntu/home/tpoignonec/dev/temp_dir/backlash_simulation_examples/notebooks/example_1D.ipynb#W2sdnNjb2RlLXJlbW90ZQ%3D%3D?line=7'>8</a>\u001b[0m \u001b[39mfrom\u001b[39;00m \u001b[39mbacklash_simulation_examples\u001b[39;00m\u001b[39m.\u001b[39;00m\u001b[39mmodels\u001b[39;00m\u001b[39m.\u001b[39;00m\u001b[39mmodel_1dof_backlash\u001b[39;00m \u001b[39mimport\u001b[39;00m eval_1DOF_backlash\n\u001b[1;32m     <a href='vscode-notebook-cell://wsl%2Bubuntu/home/tpoignonec/dev/temp_dir/backlash_simulation_examples/notebooks/example_1D.ipynb#W2sdnNjb2RlLXJlbW90ZQ%3D%3D?line=9'>10</a>\u001b[0m \u001b[39m# Generate some data\u001b[39;00m\n\u001b[1;32m     <a href='vscode-notebook-cell://wsl%2Bubuntu/home/tpoignonec/dev/temp_dir/backlash_simulation_examples/notebooks/example_1D.ipynb#W2sdnNjb2RlLXJlbW90ZQ%3D%3D?line=10'>11</a>\u001b[0m \u001b[39mdef\u001b[39;00m \u001b[39mgenerate_dummy_data\u001b[39m(dt, dof, theta, std_noise_q \u001b[39m=\u001b[39m \u001b[39m0\u001b[39m):\n",
      "\u001b[0;31mModuleNotFoundError\u001b[0m: No module named 'backlash_simulation_examples'"
     ]
    }
   ],
   "source": [
    "import numpy as np\n",
    "import os\n",
    "from copy import deepcopy\n",
    "from scipy.linalg import block_diag\n",
    "import matplotlib.pyplot as plt\n",
    "\n",
    "# 1DOF backlash models (2 to 4 parameters per element)\n",
    "from backlash_simulation_examples.models.model_1dof_backlash import eval_1DOF_backlash\n",
    "\n",
    "# Generate some data\n",
    "def generate_dummy_data(dt, dof, theta, std_noise_q = 0):\n",
    "    t_max = 50.0\n",
    "    t = np.arange(0.0, t_max, dt)\n",
    "\n",
    "    # Generate smooth q data\n",
    "    q_no_noise_raw = 2*np.sin(np.pi/17*t) + 5*np.sin(np.pi/2*t)*np.exp(-t/10) + 3*np.sin(np.pi/4*t) - 3*np.sin(np.pi/6*t)\n",
    "    # Add a \"pause\"\n",
    "    dq__no_noise_raw = np.diff(q_no_noise_raw)\n",
    "    if False : # set to true to add a pause\n",
    "        dq__no_noise_raw[1400:4500].fill(0)\n",
    "    q_no_noise = np.hstack((q_no_noise_raw[0], dq__no_noise_raw)).cumsum()\n",
    "    # Add gaussian noise (opt.)\n",
    "    noise_q = None\n",
    "    if std_noise_q > 0 :\n",
    "        noise_q = np.random.normal(0,std_noise_q,t.shape[0])\n",
    "        q_data = (q_no_noise + noise_q).reshape((-1,1))\n",
    "    else :\n",
    "        q_data = q_no_noise.reshape((-1,1))\n",
    "    # normalize between -1 and 1\n",
    "    q_data = q_data - np.min(q_data)\n",
    "    q_data = q_data/np.max(q_data) * 2 -1\n",
    "\n",
    "    c_data = np.zeros(q_data.shape)\n",
    "\n",
    "    x_data = np.zeros((t.shape[0], 1 + theta.shape[0]))\n",
    "    x_data[0,:] = np.append(0, theta)\n",
    "\n",
    "    x_k_1 = None\n",
    "    for k in range(1,t.shape[0]):\n",
    "        x_k_1 = x_data[k-1,:].copy()\n",
    "        q_k = q_data[k,0]\n",
    "        q_k_1 = q_data[k-1,:]\n",
    "        # Process backlash\n",
    "        f_1, F_1, H_c_1, obserbable_1 = eval_1DOF_backlash(x_k_1, q_k, q_k_1, dof=dof)\n",
    "        # Compute output\n",
    "        x_k = f_1(x_k_1, q_k)\n",
    "        x_data[k,:] = x_k.copy()\n",
    "    # Retropropagate to the initial state to avoid discontinuity\n",
    "    x_data[0,:]= x_data[1,:].copy()\n",
    "    z_data = x_data[:,0].reshape((-1,1)) # z_k = c_k\n",
    "    return t, q_data, x_data, z_data"
   ]
  },
  {
   "cell_type": "code",
   "execution_count": null,
   "metadata": {},
   "outputs": [],
   "source": [
    "dt = 0.02 # Sampling period\n",
    "theta_star = np.array([-.15,0.25, 1.15, 0.9])\n",
    "std_noise_q = 0.0\n",
    "std_noise_z = 0.02\n",
    "t, q_data, x_data, z_no_noise_data = generate_dummy_data(dt, dof = 4, theta = theta_star, std_noise_q = std_noise_q)\n",
    "noise_measurements = np.random.normal(0,std_noise_z, z_no_noise_data.shape[0]*z_no_noise_data.shape[1]).reshape(z_no_noise_data.shape)\n",
    "z_data = z_no_noise_data + noise_measurements"
   ]
  },
  {
   "cell_type": "markdown",
   "metadata": {},
   "source": [
    "# Plot generated data"
   ]
  },
  {
   "cell_type": "code",
   "execution_count": null,
   "metadata": {},
   "outputs": [],
   "source": [
    "# Plot input data and baseline perf.\n",
    "fig, ax = plt.subplots(\n",
    "    1,1,\n",
    "    figsize=(\n",
    "        plt.rcParams[\"figure.figsize\"][0],\n",
    "        0.4*plt.rcParams[\"figure.figsize\"][0]\n",
    "    )\n",
    ")\n",
    "ax.plot( q_data[:,0], label = r'$q_k$')\n",
    "ax.plot( x_data[:,0], label = r'$c_k$', zorder=10) # On top !!!\n",
    "ax.plot( z_data[:,0], label = r'$z_k$')\n",
    "\n",
    "ax.set_xlim(0,t.shape[0])\n",
    "\n",
    "ax.set_xlabel('sample k')\n",
    "ax.set_ylabel('Normalized units')\n",
    "ax.grid()\n",
    "ax.legend(frameon=True)\n",
    "plt.show()\n",
    "\n",
    "fig = plt.figure()\n",
    "ax = plt.axes()\n",
    "ax.plot(q_data[:,0], x_data[:,0], 'k')\n",
    "ax.set_xlabel(r'$q_k$')\n",
    "ax.set_ylabel(r'$c_k$')\n",
    "ax.grid()\n",
    "ax.set_aspect('equal')\n",
    "plt.show()\n",
    "\n",
    "fig, (ax1, ax2) = plt.subplots(\n",
    "    1,2,\n",
    "    figsize=(plt.rcParams[\"figure.figsize\"][0], 0.26 * plt.rcParams[\"figure.figsize\"][0]),\n",
    "    gridspec_kw={'width_ratios': [5,2.5], \"wspace\":0.4}\n",
    ")\n",
    "\n",
    "ax1.plot( q_data[:,0], label = r'$q_k$')\n",
    "ax1.plot( x_data[:,0], label = r'$c_k$', zorder=10) # On top !!!\n",
    "ax1.plot( z_data[:,0], label = r'$z_k$')\n",
    "ax1.set_xlim(0,t.shape[0])\n",
    "ax1.set_xlabel('sample k')\n",
    "ax1.set_ylabel('Normalized units')\n",
    "ax1.grid()\n",
    "ax1.legend(ncol=2, frameon=True, loc='upper center', bbox_to_anchor=(0.51, 1.4))\n",
    "ax2.sharey(ax1)\n",
    "ax2.plot([], [], label=\"_\")\n",
    "ax2.plot(q_data[:,0], x_data[:,0], label=\"Ground truth\")\n",
    "ax2.legend(frameon=True, loc='upper center', bbox_to_anchor=(0.51, 1.4))\n",
    "#ax2.set_title(r'$\\mathcal{B}(\\cdot)$')\n",
    "ax2.set_xlabel(r'$q_k$')\n",
    "ax2.set_ylabel(r'$c_k$')\n",
    "ax2.grid()\n",
    "ax2.set_aspect('equal')\n",
    "plt.show()"
   ]
  }
 ],
 "metadata": {
  "kernelspec": {
   "display_name": ".venv",
   "language": "python",
   "name": "python3"
  },
  "language_info": {
   "codemirror_mode": {
    "name": "ipython",
    "version": 3
   },
   "file_extension": ".py",
   "mimetype": "text/x-python",
   "name": "python",
   "nbconvert_exporter": "python",
   "pygments_lexer": "ipython3",
   "version": "3.10.12"
  }
 },
 "nbformat": 4,
 "nbformat_minor": 2
}
